{
 "cells": [
  {
   "cell_type": "code",
   "execution_count": 9,
   "id": "fef482e0-0557-49ec-b5e8-9d56ff47023f",
   "metadata": {},
   "outputs": [],
   "source": [
    "import pprint\n",
    "import numpy as np\n",
    "import math\n",
    "np.set_printoptions(precision=3)"
   ]
  },
  {
   "cell_type": "code",
   "execution_count": 2,
   "id": "09eea58c-7b1c-451f-b387-1a734d9dfc5c",
   "metadata": {},
   "outputs": [],
   "source": [
    "# 上位K件\n",
    "TOP_K = 3\n",
    "\n",
    "# 近傍アイテム数\n",
    "K_ITEMS = 3\n",
    "\n",
    "# しきい値\n",
    "THETA = 0"
   ]
  },
  {
   "cell_type": "code",
   "execution_count": 3,
   "id": "b1a18648-b54b-4e44-9e25-fec14ca9feaa",
   "metadata": {},
   "outputs": [],
   "source": [
    "Du = np.array([\n",
    "               [5, 3, +1],\n",
    "               [6, 2, +1],\n",
    "               [4, 1, +1],\n",
    "               [8, 5, -1],\n",
    "               [2, 4, -1],\n",
    "               [3, 6, -1],\n",
    "               [7, 6, -1],\n",
    "               [4, 2, np.nan],\n",
    "               [5, 1, np.nan],\n",
    "               [8, 6, np.nan],\n",
    "               [3, 4, np.nan],\n",
    "               [4, 7, np.nan],\n",
    "               [4, 4, np.nan],\n",
    "])"
   ]
  },
  {
   "cell_type": "code",
   "execution_count": 4,
   "id": "b05aa87b-4fe4-4388-a253-105095b1f1d7",
   "metadata": {},
   "outputs": [],
   "source": [
    "I = np.arange(Du.shape[0])\n",
    "x = Du[:,:-1]\n",
    "ru = Du[:,-1]"
   ]
  },
  {
   "cell_type": "code",
   "execution_count": 5,
   "id": "1d4f9f91-97ae-4508-a27f-ea39a76ca9d6",
   "metadata": {},
   "outputs": [],
   "source": [
    "Iu = I[~np.isnan(ru)]\n",
    "Iup = I[ru==+1]\n",
    "Iun = I[ru==-1]\n",
    "Iu_not = np.setdiff1d(I, Iu)"
   ]
  },
  {
   "cell_type": "markdown",
   "id": "16d02dab-b113-423b-b972-36471be3a8cc",
   "metadata": {},
   "source": [
    "## 01 ユークリッド距離"
   ]
  },
  {
   "cell_type": "code",
   "execution_count": 26,
   "id": "3385b3a8-15b6-4bd8-9143-1a265acfcfd3",
   "metadata": {},
   "outputs": [],
   "source": [
    "def dist(xi, xj):\n",
    "    \"\"\"\n",
    "    距離関数：アイテムiの特徴ベクトルxiとアイテムjの特徴ベクトルxjのユークリッド距離を返す。\n",
    "\n",
    "    Parameters\n",
    "    ----------\n",
    "    xi : ndarray\n",
    "        アイテムiの特徴ベクトル\n",
    "    xj : ndarray\n",
    "        アイテムjの特徴ベクトル\n",
    "\n",
    "    Returns\n",
    "    -------\n",
    "    float\n",
    "        ユークリッド距離\n",
    "    \"\"\"\n",
    "    # Q!\n",
    "    \n",
    "    distance = np.sqrt(np.sum((xi - xj) ** 2))\n",
    "    \n",
    "    return distance"
   ]
  },
  {
   "cell_type": "code",
   "execution_count": 27,
   "id": "087859be-09af-4c8b-91ea-42f661b13a6e",
   "metadata": {},
   "outputs": [
    {
     "name": "stdout",
     "output_type": "stream",
     "text": [
      "dist(x7, x2) = 1.000\n",
      "dist(x7, x3) = 5.000\n"
     ]
    }
   ],
   "source": [
    "i = 7\n",
    "j = 2\n",
    "print('dist(x{}, x{}) = {:.3f}'.format(i, j, dist(x[i], x[j])))\n",
    "\n",
    "i = 7\n",
    "j = 3\n",
    "print('dist(x{}, x{}) = {:.3f}'.format(i, j, dist(x[i], x[j])))"
   ]
  },
  {
   "cell_type": "markdown",
   "id": "fc6bf891-e961-4505-a02f-9121f376231e",
   "metadata": {},
   "source": [
    "## 02 アイテム-アイテム距離行列"
   ]
  },
  {
   "cell_type": "code",
   "execution_count": 117,
   "id": "5498c773-fc1c-4985-8201-7f0773a4e547",
   "metadata": {},
   "outputs": [
    {
     "name": "stdout",
     "output_type": "stream",
     "text": [
      "D = \n",
      "[[1.414 2.    1.    5.    2.828 4.123 5.   ]\n",
      " [2.    1.414 1.    5.    4.243 5.385 5.385]\n",
      " [4.243 4.472 6.403 1.    6.325 5.    1.   ]\n",
      " [2.236 3.606 3.162 5.099 1.    2.    4.472]\n",
      " [4.123 5.385 6.    4.472 3.606 1.414 3.162]\n",
      " [1.414 2.828 3.    4.123 2.    2.236 3.606]]\n"
     ]
    }
   ],
   "source": [
    "D = np.array([[dist(Xarray, Yarray) for Xarray in x] for Yarray in x])\n",
    "print('D = \\n{}'.format(D[np.ix_(Iu_not,Iu)]))"
   ]
  },
  {
   "cell_type": "markdown",
   "id": "c828a67a-b228-4848-af84-c9d6d33432e0",
   "metadata": {},
   "source": [
    "## 03 距離の昇順に並べ替えたインデックスの配列"
   ]
  },
  {
   "cell_type": "code",
   "execution_count": 125,
   "id": "645013f1-e351-45d8-8743-6a7359c3da7d",
   "metadata": {},
   "outputs": [
    {
     "name": "stdout",
     "output_type": "stream",
     "text": [
      "Ii = \n",
      "[[0 1 2 4 3 5 6]\n",
      " [1 0 2 3 6 4 5]\n",
      " [2 0 1 4 5 3 6]\n",
      " [3 6 0 1 5 2 4]\n",
      " [4 5 0 2 1 6 3]\n",
      " [5 4 0 6 1 2 3]\n",
      " [6 3 0 5 1 4 2]\n",
      " [2 0 1 4 5 3 6]\n",
      " [2 1 0 4 3 5 6]\n",
      " [3 6 0 1 5 4 2]\n",
      " [4 5 0 2 1 6 3]\n",
      " [5 6 4 0 3 1 2]\n",
      " [0 4 5 1 2 6 3]]\n"
     ]
    }
   ],
   "source": [
    "Di = np.array([[dist(Xarray, Yarray) for Xarray in x[~np.isnan(ru)]] for Yarray in x])\n",
    "\n",
    "Ii = np.argsort(Di)\n",
    "\n",
    "print('Ii = \\n{}'.format(Ii))"
   ]
  },
  {
   "cell_type": "markdown",
   "id": "dc46a850-1abd-45e4-9a29-f145d328ae7b",
   "metadata": {},
   "source": [
    "## 04 近傍k件のアイテムのインデックス配列"
   ]
  },
  {
   "cell_type": "code",
   "execution_count": 128,
   "id": "59005375-fada-489f-b4a6-606d845081ab",
   "metadata": {},
   "outputs": [
    {
     "name": "stdout",
     "output_type": "stream",
     "text": [
      "Ii = \n",
      "[[0 1 2]\n",
      " [1 0 2]\n",
      " [2 0 1]\n",
      " [3 6 0]\n",
      " [4 5 0]\n",
      " [5 4 0]\n",
      " [6 3 0]\n",
      " [2 0 1]\n",
      " [2 1 0]\n",
      " [3 6 0]\n",
      " [4 5 0]\n",
      " [5 6 4]\n",
      " [0 4 5]]\n"
     ]
    }
   ],
   "source": [
    "Ii = Ii[:, :TOP_K]\n",
    "\n",
    "print('Ii = \\n{}'.format(Ii))"
   ]
  },
  {
   "cell_type": "markdown",
   "id": "7a145df7-eb34-40bf-ad8e-d2edf7388d63",
   "metadata": {},
   "source": [
    "## 05 各対象アイテムの近傍アイテム集合"
   ]
  },
  {
   "cell_type": "code",
   "execution_count": 146,
   "id": "aad954fb-e345-447a-ab5f-7e49d09199d7",
   "metadata": {},
   "outputs": [
    {
     "name": "stdout",
     "output_type": "stream",
     "text": [
      "Ii = \n",
      "{7: array([2, 0, 1]),\n",
      " 8: array([2, 1, 0]),\n",
      " 9: array([3, 6, 0]),\n",
      " 10: array([4, 5, 0]),\n",
      " 11: array([5, 6, 4]),\n",
      " 12: array([0, 4, 5])}\n"
     ]
    }
   ],
   "source": [
    "Ii = {i:Ii[i] for i in Iu_not}\n",
    "\n",
    "print('Ii = ')\n",
    "pprint.pprint(Ii)"
   ]
  },
  {
   "cell_type": "markdown",
   "id": "ff17182c-b430-4fb6-932c-a59731d87ca8",
   "metadata": {},
   "source": [
    "## 嗜好予測（多数決方式）"
   ]
  },
  {
   "cell_type": "markdown",
   "id": "a11d9424-d3d8-4a8f-92ee-408485940f42",
   "metadata": {},
   "source": [
    "## 06 近傍アイテム集合のうち「好き」と評価したアイテム集合"
   ]
  },
  {
   "cell_type": "code",
   "execution_count": 172,
   "id": "af20844e-1b93-4c95-9fba-ca5f636e426f",
   "metadata": {},
   "outputs": [],
   "source": [
    "i = 7"
   ]
  },
  {
   "cell_type": "code",
   "execution_count": 175,
   "id": "3e857b7c-6573-4744-b3b0-037a08fc3342",
   "metadata": {},
   "outputs": [
    {
     "data": {
      "text/plain": [
       "array([2, 0, 1])"
      ]
     },
     "execution_count": 175,
     "metadata": {},
     "output_type": "execute_result"
    }
   ],
   "source": [
    "Ii[i][np.isin(Ii[i], Iup)]"
   ]
  },
  {
   "cell_type": "markdown",
   "id": "070b0d68-437d-4b10-b33b-8b8fc987e8d9",
   "metadata": {},
   "source": [
    "## 07 近傍アイテム集合のうち「嫌い」と評価したアイテム集合 "
   ]
  },
  {
   "cell_type": "code",
   "execution_count": 176,
   "id": "83d925a8-e8d0-493f-a390-f05a8022c709",
   "metadata": {},
   "outputs": [
    {
     "data": {
      "text/plain": [
       "array([], dtype=int64)"
      ]
     },
     "execution_count": 176,
     "metadata": {},
     "output_type": "execute_result"
    }
   ],
   "source": [
    "Ii[i][np.isin(Ii[i], Iun)]"
   ]
  },
  {
   "cell_type": "markdown",
   "id": "1784fcaf-4148-45d1-af2b-7ceb878adc3d",
   "metadata": {},
   "source": [
    "## 08 多数決方式による予測評価値"
   ]
  },
  {
   "cell_type": "code",
   "execution_count": 181,
   "id": "29b00f33-32ab-400a-83d8-3d774b77de9f",
   "metadata": {},
   "outputs": [
    {
     "data": {
      "text/plain": [
       "1.0"
      ]
     },
     "execution_count": 181,
     "metadata": {},
     "output_type": "execute_result"
    }
   ],
   "source": [
    "(1 * len(Ii[i][np.isin(Ii[i], Iup)]) + -1 * len(Ii[i][np.isin(Ii[i], Iun)])) / (len(Ii[i][np.isin(Ii[i], Iup)]) + len(Ii[i][np.isin(Ii[i], Iun)]))"
   ]
  },
  {
   "cell_type": "code",
   "execution_count": 182,
   "id": "4c5b3b6a-a3f1-450f-ad2c-fedbd771deb8",
   "metadata": {},
   "outputs": [],
   "source": [
    "def predict1(u, i):\n",
    "    \"\"\"\n",
    "    予測関数（多数決方式）：多数決方式によりユーザuのアイテムiに対する予測評価値を返す。\n",
    "\n",
    "    Parameters\n",
    "    ----------\n",
    "    u : int\n",
    "        ユーザuのID（ダミー）\n",
    "    i : int\n",
    "        アイテムiのID\n",
    "\n",
    "    Returns\n",
    "    -------\n",
    "    float\n",
    "        予測評価値\n",
    "    \"\"\"\n",
    "    # Q6\n",
    "    Iip = Ii[i][np.isin(Ii[i], Iup)]\n",
    "    print('I{}+ = {}'.format(i, Iip))\n",
    "\n",
    "    # Q7\n",
    "    Iin = Ii[i][np.isin(Ii[i], Iun)]\n",
    "    print('I{}- = {}'.format(i, Iin))\n",
    "    \n",
    "    # Q08\n",
    "    rui = (1 * len(Ii[i][np.isin(Ii[i], Iup)]) + -1 * len(Ii[i][np.isin(Ii[i], Iun)])) / (len(Ii[i][np.isin(Ii[i], Iup)]) + len(Ii[i][np.isin(Ii[i], Iun)]))\n",
    "\n",
    "    return rui"
   ]
  },
  {
   "cell_type": "code",
   "execution_count": 183,
   "id": "8f960848-d657-4642-ba4d-3908e93317d0",
   "metadata": {},
   "outputs": [
    {
     "name": "stdout",
     "output_type": "stream",
     "text": [
      "I7+ = [2 0 1]\n",
      "I7- = []\n",
      "predict1(0, 7) = 1.000\n",
      "I9+ = [0]\n",
      "I9- = [3 6]\n",
      "predict1(0, 9) = -0.333\n"
     ]
    }
   ],
   "source": [
    "u = 0\n",
    "i = 7\n",
    "print('predict1({}, {}) = {:.3f}'.format(u, i, predict1(u, i)))\n",
    "u = 0\n",
    "i = 9\n",
    "print('predict1({}, {}) = {:.3f}'.format(u, i, predict1(u, i)))"
   ]
  },
  {
   "cell_type": "markdown",
   "id": "9d4681bd-50c2-4a66-9b03-dc24a228bfdf",
   "metadata": {},
   "source": [
    "## 09 平均方式による予測評価値"
   ]
  },
  {
   "cell_type": "code",
   "execution_count": null,
   "id": "59a7eaa5-709d-48be-a6c7-f1cd420aed29",
   "metadata": {},
   "outputs": [],
   "source": []
  }
 ],
 "metadata": {
  "kernelspec": {
   "display_name": "Python 3 (ipykernel)",
   "language": "python",
   "name": "python3"
  },
  "language_info": {
   "codemirror_mode": {
    "name": "ipython",
    "version": 3
   },
   "file_extension": ".py",
   "mimetype": "text/x-python",
   "name": "python",
   "nbconvert_exporter": "python",
   "pygments_lexer": "ipython3",
   "version": "3.9.7"
  }
 },
 "nbformat": 4,
 "nbformat_minor": 5
}
