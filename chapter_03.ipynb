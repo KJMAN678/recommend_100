{
 "cells": [
  {
   "cell_type": "code",
   "execution_count": 1,
   "id": "9197a38b-9764-4736-84af-8c14d50eff23",
   "metadata": {},
   "outputs": [],
   "source": [
    "import pprint\n",
    "import numpy as np"
   ]
  },
  {
   "cell_type": "code",
   "execution_count": 2,
   "id": "91f25909-d473-4a99-a164-f221220903a5",
   "metadata": {},
   "outputs": [],
   "source": [
    "# 上位K件\n",
    "TOP_K = 3"
   ]
  },
  {
   "cell_type": "code",
   "execution_count": 3,
   "id": "cdc22fd8-f822-4b3d-bf8a-775e95234424",
   "metadata": {},
   "outputs": [],
   "source": [
    "Du = np.array([\n",
    "               [5, 3, +1],\n",
    "               [6, 2, +1],\n",
    "               [4, 1, +1],\n",
    "               [8, 5, -1],\n",
    "               [2, 4, -1],\n",
    "               [3, 6, -1],\n",
    "               [7, 6, -1],\n",
    "               [4, 2, np.nan],\n",
    "               [5, 1, np.nan],\n",
    "               [8, 6, np.nan],\n",
    "               [3, 4, np.nan],\n",
    "               [4, 7, np.nan],\n",
    "               [4, 4, np.nan],\n",
    "])"
   ]
  },
  {
   "cell_type": "code",
   "execution_count": 4,
   "id": "4a8e5cff-13e3-4f54-b4ed-9e0d27f09d5b",
   "metadata": {},
   "outputs": [
    {
     "name": "stdout",
     "output_type": "stream",
     "text": [
      "[ 0  1  2  3  4  5  6  7  8  9 10 11 12]\n"
     ]
    }
   ],
   "source": [
    "I = np.arange(Du.shape[0])\n",
    "print(I)"
   ]
  },
  {
   "cell_type": "code",
   "execution_count": 5,
   "id": "2c8c92b9-8fe5-4df2-b487-5a6287d53157",
   "metadata": {},
   "outputs": [
    {
     "name": "stdout",
     "output_type": "stream",
     "text": [
      "[[5. 3.]\n",
      " [6. 2.]\n",
      " [4. 1.]\n",
      " [8. 5.]\n",
      " [2. 4.]\n",
      " [3. 6.]\n",
      " [7. 6.]\n",
      " [4. 2.]\n",
      " [5. 1.]\n",
      " [8. 6.]\n",
      " [3. 4.]\n",
      " [4. 7.]\n",
      " [4. 4.]]\n"
     ]
    }
   ],
   "source": [
    "x = Du[:,:-1]\n",
    "print(x)"
   ]
  },
  {
   "cell_type": "code",
   "execution_count": 6,
   "id": "b321207e-5e45-4081-a911-1351f78c1146",
   "metadata": {},
   "outputs": [
    {
     "name": "stdout",
     "output_type": "stream",
     "text": [
      "[ 1.  1.  1. -1. -1. -1. -1. nan nan nan nan nan nan]\n"
     ]
    }
   ],
   "source": [
    "ru = Du[:,-1]\n",
    "print(ru)"
   ]
  },
  {
   "cell_type": "code",
   "execution_count": 7,
   "id": "e9842b08-94f8-4938-b9de-04555e93f8a8",
   "metadata": {},
   "outputs": [
    {
     "name": "stdout",
     "output_type": "stream",
     "text": [
      "[0 1 2 3 4 5 6]\n"
     ]
    }
   ],
   "source": [
    "Iu = I[~np.isnan(ru)]\n",
    "print(Iu)"
   ]
  },
  {
   "cell_type": "code",
   "execution_count": 8,
   "id": "be29df77-a270-43fd-af34-b2e2112db19a",
   "metadata": {},
   "outputs": [
    {
     "name": "stdout",
     "output_type": "stream",
     "text": [
      "[0 1 2]\n"
     ]
    }
   ],
   "source": [
    "Iup = I[ru==+1]\n",
    "print(Iup)"
   ]
  },
  {
   "cell_type": "code",
   "execution_count": 9,
   "id": "00446a33-1700-4d36-9d89-fb25027a4c0e",
   "metadata": {},
   "outputs": [
    {
     "name": "stdout",
     "output_type": "stream",
     "text": [
      "[3 4 5 6]\n"
     ]
    }
   ],
   "source": [
    "Iun = I[ru==-1]\n",
    "print(Iun)"
   ]
  },
  {
   "cell_type": "code",
   "execution_count": 10,
   "id": "2f4dbcfd-2183-4c28-9e12-016cbc2217ed",
   "metadata": {},
   "outputs": [
    {
     "name": "stdout",
     "output_type": "stream",
     "text": [
      "[ 7  8  9 10 11 12]\n"
     ]
    }
   ],
   "source": [
    "Iu_not = np.setdiff1d(I, Iu)\n",
    "print(Iu_not)"
   ]
  },
  {
   "cell_type": "markdown",
   "id": "045e637b-fe6c-45c6-a480-f85dbf5320f4",
   "metadata": {},
   "source": [
    "## 01 好きなアイテム集合に含まれるアイテムの特徴ベクトルの集合"
   ]
  },
  {
   "cell_type": "code",
   "execution_count": 11,
   "id": "6dda0dc2-53b4-4125-b805-40708455df84",
   "metadata": {},
   "outputs": [
    {
     "name": "stdout",
     "output_type": "stream",
     "text": [
      "x[Iu+] = \n",
      "[[5. 3.]\n",
      " [6. 2.]\n",
      " [4. 1.]]\n"
     ]
    }
   ],
   "source": [
    "print('x[Iu+] = \\n{}'.format(x[ru==+1]))"
   ]
  },
  {
   "cell_type": "markdown",
   "id": "08552a26-d894-4601-88cb-6f996785d3d2",
   "metadata": {},
   "source": [
    "## 02 特徴ベクトルの総和"
   ]
  },
  {
   "cell_type": "code",
   "execution_count": 12,
   "id": "1d3fe40b-f9c1-4eb4-a9d3-e802710d4d5b",
   "metadata": {},
   "outputs": [
    {
     "name": "stdout",
     "output_type": "stream",
     "text": [
      "sum(x[Iu+]) = [15.  6.]\n"
     ]
    }
   ],
   "source": [
    "print('sum(x[Iu+]) = {}'.format(np.sum(x[ru==+1], axis=0)))"
   ]
  },
  {
   "cell_type": "markdown",
   "id": "3df51496-bff3-4a11-a5be-22d247f970ec",
   "metadata": {},
   "source": [
    "## 03 ユーザプロファイル"
   ]
  },
  {
   "cell_type": "code",
   "execution_count": 13,
   "id": "5530ee6e-95b0-4fd5-8426-79790a948ec4",
   "metadata": {},
   "outputs": [
    {
     "name": "stdout",
     "output_type": "stream",
     "text": [
      "pu = [5. 2.]\n"
     ]
    }
   ],
   "source": [
    "pu = (1 / Iup.size) * np.sum(x[ru==+1], axis=0)\n",
    "\n",
    "print('pu = {}'.format(pu))"
   ]
  },
  {
   "cell_type": "markdown",
   "id": "e70e0f4a-daf2-40a3-9bb6-b7985b81376e",
   "metadata": {},
   "source": [
    "## コサイン類似度"
   ]
  },
  {
   "cell_type": "code",
   "execution_count": 14,
   "id": "f57dbd1e-d1cd-4bca-baf0-8ac8edcda823",
   "metadata": {},
   "outputs": [],
   "source": [
    "import math\n",
    "\n",
    "def cos(pu, xi):\n",
    "    \"\"\"\n",
    "    コサイン類似度関数：ユーザプロファイルpuとアイテムiの特徴ベクトルxiのコサイン類似度を返す。\n",
    "\n",
    "    Parameters\n",
    "    ----------\n",
    "    pu : ndarray\n",
    "        ユーザuのユーザプロファイル\n",
    "    xi : ndarray\n",
    "        アイテムiの特徴ベクトル\n",
    "\n",
    "    Returns\n",
    "    -------\n",
    "    float\n",
    "        コサイン類似度\n",
    "    \"\"\"\n",
    "    # Q4\n",
    "    # num = np.dot(pu, xi)\n",
    "    num = np.sum(pu * xi)\n",
    "    print('num = {}'.format(num))\n",
    "\n",
    "    # Q5\n",
    "    # den_u = np.linalg.norm(pu)\n",
    "    den_u = np.sqrt(np.sum(pu * pu))\n",
    "    print('den_u = {:.3f}'.format(den_u))\n",
    "\n",
    "    # Q6\n",
    "    den_i = np.linalg.norm(xi)\n",
    "    \n",
    "    cosine = num / (den_u * den_i)\n",
    "    return cosine"
   ]
  },
  {
   "cell_type": "code",
   "execution_count": 15,
   "id": "f5daf289-7690-456d-85b3-3aca3f302db6",
   "metadata": {},
   "outputs": [
    {
     "name": "stdout",
     "output_type": "stream",
     "text": [
      "num = 24.0\n",
      "den_u = 5.385\n",
      "cos(p0, x7) = 0.997\n",
      "num = 34.0\n",
      "den_u = 5.385\n",
      "cos(p0, x11) = 0.783\n"
     ]
    }
   ],
   "source": [
    "u = 0\n",
    "i = 7\n",
    "print('cos(p{}, x{}) = {:.3f}'.format(u, i, cos(pu, x[i])))\n",
    "u = 0\n",
    "i = 11\n",
    "print('cos(p{}, x{}) = {:.3f}'.format(u, i, cos(pu, x[i])))"
   ]
  },
  {
   "cell_type": "markdown",
   "id": "5983b91a-faa9-4254-bf94-11aabe5fd1be",
   "metadata": {},
   "source": [
    "## 推薦"
   ]
  },
  {
   "cell_type": "markdown",
   "id": "916a1240-4168-4f1b-8888-7dbb443b3d6c",
   "metadata": {},
   "source": [
    "## スコア関数"
   ]
  },
  {
   "cell_type": "code",
   "execution_count": 16,
   "id": "dc403b3a-693f-4200-b679-cbd3e49132a5",
   "metadata": {},
   "outputs": [],
   "source": [
    "def score(u, i):\n",
    "    \"\"\"\n",
    "    スコア関数：ユーザuのアイテムiに対するスコアを返す。\n",
    "\n",
    "    Parameters\n",
    "    ----------\n",
    "    u : int\n",
    "        ユーザuのID（ダミー）\n",
    "    i : int\n",
    "        アイテムiのID\n",
    "\n",
    "    Returns\n",
    "    -------\n",
    "    float\n",
    "        スコア\n",
    "    \"\"\"\n",
    "    return cos(pu, x[i])"
   ]
  },
  {
   "cell_type": "markdown",
   "id": "e7b5a2db-1f5b-477d-83f5-af0e8687c3c4",
   "metadata": {},
   "source": [
    "## 順位付け関数"
   ]
  },
  {
   "cell_type": "code",
   "execution_count": 17,
   "id": "fe4f9b2d-3747-40fa-a5e4-432d28bf13f2",
   "metadata": {},
   "outputs": [],
   "source": [
    "def order(u, I):\n",
    "    \"\"\"\n",
    "    順序付け関数：アイテム集合Iにおいて、ユーザu向けの推薦リストを返す。\n",
    "\n",
    "    Parameters\n",
    "    ----------\n",
    "    u : int\n",
    "        ユーザuのID\n",
    "    I : ndarray\n",
    "        アイテム集合\n",
    "\n",
    "    Returns\n",
    "    -------\n",
    "    list\n",
    "        タプル(アイテムID: スコア)を要素にした推薦リスト\n",
    "    \"\"\"\n",
    "    # Q7\n",
    "    scores = {i:score(u, i) for i in I}\n",
    "    \n",
    "    print('scores = ')\n",
    "    pprint.pprint(scores)\n",
    "    \n",
    "    # Q8\n",
    "    rec_list = sorted(\n",
    "        {i:score(u, i) for i in Iu_not}.items(), key=lambda x:x[1], \n",
    "        reverse=True\n",
    "    )[:TOP_K]\n",
    "    \n",
    "    return rec_list"
   ]
  },
  {
   "cell_type": "code",
   "execution_count": 18,
   "id": "5af39c0d-cbde-4710-ba75-598c52d33bb6",
   "metadata": {},
   "outputs": [
    {
     "name": "stdout",
     "output_type": "stream",
     "text": [
      "num = 24.0\n",
      "den_u = 5.385\n",
      "num = 27.0\n",
      "den_u = 5.385\n",
      "num = 52.0\n",
      "den_u = 5.385\n",
      "num = 23.0\n",
      "den_u = 5.385\n",
      "num = 34.0\n",
      "den_u = 5.385\n",
      "num = 28.0\n",
      "den_u = 5.385\n",
      "scores = \n",
      "{7: 0.9965457582448796,\n",
      " 8: 0.9832820049844603,\n",
      " 9: 0.9656157585206697,\n",
      " 10: 0.8541985556144386,\n",
      " 11: 0.783110847498294,\n",
      " 12: 0.9191450300180578}\n",
      "num = 24.0\n",
      "den_u = 5.385\n",
      "num = 27.0\n",
      "den_u = 5.385\n",
      "num = 52.0\n",
      "den_u = 5.385\n",
      "num = 23.0\n",
      "den_u = 5.385\n",
      "num = 34.0\n",
      "den_u = 5.385\n",
      "num = 28.0\n",
      "den_u = 5.385\n",
      "rec_list = \n",
      "7: 0.997\n",
      "8: 0.983\n",
      "9: 0.966\n"
     ]
    }
   ],
   "source": [
    "u = 0\n",
    "rec_list = order(u, Iu_not)\n",
    "print('rec_list = ')\n",
    "for i, scr in rec_list:\n",
    "    print('{}: {:.3f}'.format(i, scr))"
   ]
  },
  {
   "cell_type": "code",
   "execution_count": null,
   "id": "5613d2a9-347c-496f-8921-8fdabe85d711",
   "metadata": {},
   "outputs": [],
   "source": []
  }
 ],
 "metadata": {
  "kernelspec": {
   "display_name": "Python 3 (ipykernel)",
   "language": "python",
   "name": "python3"
  },
  "language_info": {
   "codemirror_mode": {
    "name": "ipython",
    "version": 3
   },
   "file_extension": ".py",
   "mimetype": "text/x-python",
   "name": "python",
   "nbconvert_exporter": "python",
   "pygments_lexer": "ipython3",
   "version": "3.9.7"
  }
 },
 "nbformat": 4,
 "nbformat_minor": 5
}
