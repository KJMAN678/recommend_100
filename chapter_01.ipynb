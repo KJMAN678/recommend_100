{
 "cells": [
  {
   "cell_type": "code",
   "execution_count": 1,
   "id": "e3704cfe-ce7c-4f18-870d-91d9dc49c7d6",
   "metadata": {},
   "outputs": [],
   "source": [
    "import numpy as np"
   ]
  },
  {
   "cell_type": "markdown",
   "id": "2aef4ab1-3139-49e4-8c05-59149066bdfc",
   "metadata": {},
   "source": [
    "## 01 評価履歴の生成"
   ]
  },
  {
   "cell_type": "code",
   "execution_count": 2,
   "id": "f5db861e-4b34-4b6b-a2b4-d8a517d11e26",
   "metadata": {},
   "outputs": [
    {
     "name": "stdout",
     "output_type": "stream",
     "text": [
      "Du = \n",
      "[[ 5.  3.  1.]\n",
      " [ 6.  2.  1.]\n",
      " [ 4.  1.  1.]\n",
      " [ 8.  5. -1.]\n",
      " [ 2.  4. -1.]\n",
      " [ 3.  6. -1.]\n",
      " [ 7.  6. -1.]\n",
      " [ 4.  2. nan]\n",
      " [ 5.  1. nan]\n",
      " [ 8.  6. nan]\n",
      " [ 3.  4. nan]\n",
      " [ 4.  7. nan]\n",
      " [ 4.  4. nan]]\n"
     ]
    }
   ],
   "source": [
    "Du = np.array(\n",
    "    [\n",
    "     [ 5,  3,  1],\n",
    "     [ 6,  2,  1],\n",
    "     [ 4,  1,  1],\n",
    "     [ 8,  5, -1],\n",
    "     [ 2,  4, -1],\n",
    "     [ 3,  6, -1],\n",
    "     [ 7,  6, -1],\n",
    "     [ 4,  2, np.nan],\n",
    "     [ 5,  1, np.nan],\n",
    "     [ 8,  6, np.nan],\n",
    "     [ 3,  4, np.nan],\n",
    "     [ 4,  7, np.nan],\n",
    "     [ 4,  4, np.nan],\n",
    "    ]\n",
    ")\n",
    "    \n",
    "print('Du = \\n{}'.format(Du))"
   ]
  },
  {
   "cell_type": "markdown",
   "id": "b86f976a-4c58-4f5a-b8ee-6f0b6b903aac",
   "metadata": {},
   "source": [
    "## 02 評価履歴の形状"
   ]
  },
  {
   "cell_type": "code",
   "execution_count": 3,
   "id": "3b12778d-7c18-4ede-b910-a251c29911fb",
   "metadata": {},
   "outputs": [
    {
     "name": "stdout",
     "output_type": "stream",
     "text": [
      "Duの形状 = (13, 3)\n"
     ]
    }
   ],
   "source": [
    "print('Duの形状 = {}'.format(Du.shape))"
   ]
  },
  {
   "cell_type": "markdown",
   "id": "c454fc7e-34b6-4f70-b23d-986b09144935",
   "metadata": {},
   "source": [
    "## 03 評価履歴の行数"
   ]
  },
  {
   "cell_type": "code",
   "execution_count": 4,
   "id": "119d51e9-01ab-45e7-8c84-121685fe196a",
   "metadata": {},
   "outputs": [
    {
     "name": "stdout",
     "output_type": "stream",
     "text": [
      "Duの行数 = 13\n"
     ]
    }
   ],
   "source": [
    "print('Duの行数 = {}'.format(Du.shape[0]))"
   ]
  },
  {
   "cell_type": "code",
   "execution_count": 5,
   "id": "e8538a31-8bd1-47ae-ac61-afd543043f68",
   "metadata": {},
   "outputs": [
    {
     "data": {
      "text/plain": [
       "13"
      ]
     },
     "execution_count": 5,
     "metadata": {},
     "output_type": "execute_result"
    }
   ],
   "source": [
    "len(Du)"
   ]
  },
  {
   "cell_type": "markdown",
   "id": "5d1351f6-ba13-438d-a904-23d99b12c0fe",
   "metadata": {},
   "source": [
    "## 04 評価履歴の列数"
   ]
  },
  {
   "cell_type": "code",
   "execution_count": 6,
   "id": "f2f14eef-9a61-469c-bb60-85dcd2d85c77",
   "metadata": {},
   "outputs": [
    {
     "name": "stdout",
     "output_type": "stream",
     "text": [
      "Duの列数 = 3\n"
     ]
    }
   ],
   "source": [
    "print('Duの列数 = {}'.format(Du.shape[1]))"
   ]
  },
  {
   "cell_type": "markdown",
   "id": "88d4a19c-ba42-4d31-a582-088c999cef94",
   "metadata": {},
   "source": [
    "## 05 評価履歴の全要素数"
   ]
  },
  {
   "cell_type": "code",
   "execution_count": 7,
   "id": "73c9e30a-1242-4130-9188-76ca88054d01",
   "metadata": {},
   "outputs": [
    {
     "name": "stdout",
     "output_type": "stream",
     "text": [
      "Duの全要素数 = 39\n"
     ]
    }
   ],
   "source": [
    "print('Duの全要素数 = {}'.format(Du.size))"
   ]
  },
  {
   "cell_type": "markdown",
   "id": "eb141934-09c3-4bdb-b9fb-217f92e7db4e",
   "metadata": {},
   "source": [
    "## 06 アイテム集合"
   ]
  },
  {
   "cell_type": "code",
   "execution_count": 54,
   "id": "0b4bcba2-0333-403a-99cf-00e056345b4e",
   "metadata": {},
   "outputs": [],
   "source": [
    "I = np.arange(Du.shape[0])"
   ]
  },
  {
   "cell_type": "code",
   "execution_count": 55,
   "id": "6939925f-3024-4cfb-9eae-cf37092ecc08",
   "metadata": {},
   "outputs": [
    {
     "name": "stdout",
     "output_type": "stream",
     "text": [
      "I = [ 0  1  2  3  4  5  6  7  8  9 10 11 12]\n"
     ]
    }
   ],
   "source": [
    "print('I = {}'.format(I))"
   ]
  },
  {
   "cell_type": "markdown",
   "id": "913c3ed6-edda-48d6-b9c8-521c3f0397d8",
   "metadata": {},
   "source": [
    "## 07 アイテムの特徴ベクトルの集合"
   ]
  },
  {
   "cell_type": "code",
   "execution_count": 10,
   "id": "13538ce0-1adb-483c-ba45-73ac76ad3585",
   "metadata": {},
   "outputs": [],
   "source": [
    "x = Du[:, :2]"
   ]
  },
  {
   "cell_type": "code",
   "execution_count": 11,
   "id": "ae9a7b39-1725-401d-82dd-b54338bf952e",
   "metadata": {},
   "outputs": [
    {
     "name": "stdout",
     "output_type": "stream",
     "text": [
      "x = \n",
      "[[5. 3.]\n",
      " [6. 2.]\n",
      " [4. 1.]\n",
      " [8. 5.]\n",
      " [2. 4.]\n",
      " [3. 6.]\n",
      " [7. 6.]\n",
      " [4. 2.]\n",
      " [5. 1.]\n",
      " [8. 6.]\n",
      " [3. 4.]\n",
      " [4. 7.]\n",
      " [4. 4.]]\n"
     ]
    }
   ],
   "source": [
    "print('x = \\n{}'.format(x))"
   ]
  },
  {
   "cell_type": "markdown",
   "id": "43a76d0c-8bf1-47d8-9205-c7c54bcaea0e",
   "metadata": {},
   "source": [
    "## 08 アイテムiの特徴ベクトル"
   ]
  },
  {
   "cell_type": "code",
   "execution_count": 12,
   "id": "def391bc-73f6-42d2-ae15-52aed894bedd",
   "metadata": {},
   "outputs": [
    {
     "name": "stdout",
     "output_type": "stream",
     "text": [
      "x0 = [5. 3.]\n"
     ]
    }
   ],
   "source": [
    "i = 0\n",
    "print('x{} = {}'.format(i, x[i]))"
   ]
  },
  {
   "cell_type": "markdown",
   "id": "36c61556-80ea-4d53-897e-4ff843a858c2",
   "metadata": {},
   "source": [
    "## 09 評価値集合"
   ]
  },
  {
   "cell_type": "code",
   "execution_count": 13,
   "id": "07d45ea5-6bb5-46fe-9858-64678d40233b",
   "metadata": {},
   "outputs": [],
   "source": [
    "ru = Du[:, 2]"
   ]
  },
  {
   "cell_type": "code",
   "execution_count": 14,
   "id": "ae657575-bf16-47f4-ab8a-4ed7c7b542c7",
   "metadata": {},
   "outputs": [
    {
     "name": "stdout",
     "output_type": "stream",
     "text": [
      "ru = [ 1.  1.  1. -1. -1. -1. -1. nan nan nan nan nan nan]\n"
     ]
    }
   ],
   "source": [
    "print('ru = {}'.format(ru))"
   ]
  },
  {
   "cell_type": "markdown",
   "id": "5ddbe484-7dce-421c-9740-8065cf1c77aa",
   "metadata": {},
   "source": [
    "## 10 評価値集合の形状"
   ]
  },
  {
   "cell_type": "code",
   "execution_count": 15,
   "id": "10972992-36f4-4666-97ec-3397149f3611",
   "metadata": {},
   "outputs": [
    {
     "name": "stdout",
     "output_type": "stream",
     "text": [
      "ruの形状 = (13,)\n"
     ]
    }
   ],
   "source": [
    "print('ruの形状 = {}'.format(ru.shape))"
   ]
  },
  {
   "cell_type": "markdown",
   "id": "89363f21-6caa-4823-a446-1b54615a00b7",
   "metadata": {},
   "source": [
    "## 11 評価値集合の全要素数"
   ]
  },
  {
   "cell_type": "code",
   "execution_count": 16,
   "id": "ded834ab-3538-48ed-bcf2-a94bd3e8c691",
   "metadata": {},
   "outputs": [
    {
     "name": "stdout",
     "output_type": "stream",
     "text": [
      "ruの全要素数 = 13\n"
     ]
    }
   ],
   "source": [
    "print('ruの全要素数 = {}'.format(ru.size))"
   ]
  },
  {
   "cell_type": "markdown",
   "id": "d648a95d-0c46-4ece-94fe-9d2ad3bca695",
   "metadata": {},
   "source": [
    "## 12 評価値集合の部分集合"
   ]
  },
  {
   "cell_type": "code",
   "execution_count": 17,
   "id": "3d438c55-041d-44fc-8eb2-85d969e36d98",
   "metadata": {},
   "outputs": [],
   "source": [
    "i = 2\n",
    "j = 5"
   ]
  },
  {
   "cell_type": "code",
   "execution_count": 23,
   "id": "4307b636-cbe3-4e59-9d5d-415a0df7978e",
   "metadata": {},
   "outputs": [
    {
     "name": "stdout",
     "output_type": "stream",
     "text": [
      "ru2からru4までの評価値 = [ 1. -1. -1.]\n"
     ]
    }
   ],
   "source": [
    "print('ru{}からru{}までの評価値 = {}'.format(i, j-1, ru[i:j]))"
   ]
  },
  {
   "cell_type": "markdown",
   "id": "64bd0a72-dd95-4177-a60f-4fa8ce9651a4",
   "metadata": {},
   "source": [
    "## 13 評価値集合の要素の逆順"
   ]
  },
  {
   "cell_type": "code",
   "execution_count": 45,
   "id": "346de79f-0b01-4eb5-ba7b-8d61c46b05f8",
   "metadata": {},
   "outputs": [
    {
     "name": "stdout",
     "output_type": "stream",
     "text": [
      "ruの逆順 = [nan nan nan nan nan nan -1. -1. -1. -1.  1.  1.  1.]\n"
     ]
    }
   ],
   "source": [
    "print('ruの逆順 = {}'.format(ru[::-1]))"
   ]
  },
  {
   "cell_type": "markdown",
   "id": "dfffb021-dd75-4984-9137-f4f40820c299",
   "metadata": {},
   "source": [
    "## 14 アイテムiに対する評価値"
   ]
  },
  {
   "cell_type": "code",
   "execution_count": 46,
   "id": "ea391b2b-b8d2-4d1c-8d02-5040254785b5",
   "metadata": {},
   "outputs": [
    {
     "name": "stdout",
     "output_type": "stream",
     "text": [
      "ru0 = 1.0\n"
     ]
    }
   ],
   "source": [
    "i = 0\n",
    "print('ru{} = {}'.format(i, ru[i]))"
   ]
  },
  {
   "cell_type": "markdown",
   "id": "6f897783-c0b4-4f83-a7d8-c910bc6e19b3",
   "metadata": {},
   "source": [
    "## 15 ユーザuが未評価であるか否かの判定"
   ]
  },
  {
   "cell_type": "code",
   "execution_count": 47,
   "id": "6a61ab7c-3665-49e1-9144-5bff44249f54",
   "metadata": {},
   "outputs": [
    {
     "name": "stdout",
     "output_type": "stream",
     "text": [
      "ユーザuが未評価 = [False False False False False False False  True  True  True  True  True\n",
      "  True]\n"
     ]
    }
   ],
   "source": [
    "print('ユーザuが未評価 = {}'.format(np.isnan(ru)))"
   ]
  },
  {
   "cell_type": "markdown",
   "id": "29cf1cb7-d5ef-424e-bdfc-bcd8c8eaba1e",
   "metadata": {},
   "source": [
    "## 16 ユーザが評価済みであるか否かの判定"
   ]
  },
  {
   "cell_type": "code",
   "execution_count": 48,
   "id": "dddd5a63-755b-4089-b917-f193f2ec64e7",
   "metadata": {},
   "outputs": [
    {
     "name": "stdout",
     "output_type": "stream",
     "text": [
      "ユーザuが評価済み = [ True  True  True  True  True  True  True False False False False False\n",
      " False]\n"
     ]
    }
   ],
   "source": [
    "print('ユーザuが評価済み = {}'.format(~np.isnan(ru)))"
   ]
  },
  {
   "cell_type": "markdown",
   "id": "37cacb86-c937-4db4-a40d-44948bffa089",
   "metadata": {},
   "source": [
    "## 17 ユーザuが評価済みのアイテム集合"
   ]
  },
  {
   "cell_type": "code",
   "execution_count": 58,
   "id": "ea5589f8-e102-4760-b50a-a670d91a201d",
   "metadata": {},
   "outputs": [],
   "source": [
    "Iu = I[~np.isnan(ru)]"
   ]
  },
  {
   "cell_type": "code",
   "execution_count": 59,
   "id": "4044d88b-0044-4c50-bda3-54fa3ef186d7",
   "metadata": {},
   "outputs": [
    {
     "name": "stdout",
     "output_type": "stream",
     "text": [
      "ユーザuが評価済み = [0 1 2 3 4 5 6]\n"
     ]
    }
   ],
   "source": [
    "print('ユーザuが評価済み = {}'.format(Iu))"
   ]
  },
  {
   "cell_type": "markdown",
   "id": "6575c3e8-5831-4fdf-859c-a5d976a2eedb",
   "metadata": {},
   "source": [
    "## 18 ユーザuが「好き」と評価したアイテム集合"
   ]
  },
  {
   "cell_type": "code",
   "execution_count": 60,
   "id": "749e9276-2f4e-4024-8ac2-3f16bd81c47a",
   "metadata": {},
   "outputs": [],
   "source": [
    "Iup = I[ru == 1]"
   ]
  },
  {
   "cell_type": "code",
   "execution_count": 61,
   "id": "f6dd08fa-c0c5-4914-bb0b-b58284d5ab2e",
   "metadata": {},
   "outputs": [
    {
     "name": "stdout",
     "output_type": "stream",
     "text": [
      "Iu+ = [0 1 2]\n"
     ]
    }
   ],
   "source": [
    "print('Iu+ = {}'.format(Iup))"
   ]
  },
  {
   "cell_type": "markdown",
   "id": "c66836d1-448e-4ed2-a863-8b179eeb0645",
   "metadata": {},
   "source": [
    "## 19 ユーザuが「嫌い」と評価したアイテム集合"
   ]
  },
  {
   "cell_type": "code",
   "execution_count": 62,
   "id": "f0d569de-3326-47f9-a455-d06881c06602",
   "metadata": {},
   "outputs": [],
   "source": [
    "Iun = I[ru == -1]"
   ]
  },
  {
   "cell_type": "code",
   "execution_count": 63,
   "id": "693d3463-ac4d-44e6-8035-4ebc7472bdef",
   "metadata": {},
   "outputs": [
    {
     "name": "stdout",
     "output_type": "stream",
     "text": [
      "Iu- = [3 4 5 6]\n"
     ]
    }
   ],
   "source": [
    "print('Iu- = {}'.format(Iun))"
   ]
  },
  {
   "cell_type": "markdown",
   "id": "cbf15786-e08a-4ffe-8a9c-41d279bdc1cd",
   "metadata": {},
   "source": [
    "## 20 ユーザuが未評価のアイテム集合"
   ]
  },
  {
   "cell_type": "code",
   "execution_count": 65,
   "id": "ef44fb55-77e3-4325-8756-7fe7d030ed2a",
   "metadata": {},
   "outputs": [],
   "source": [
    "Iu_not = I[np.isnan(ru)]"
   ]
  },
  {
   "cell_type": "code",
   "execution_count": 67,
   "id": "50788f95-b50e-4d88-ba47-dd0844faa555",
   "metadata": {},
   "outputs": [
    {
     "name": "stdout",
     "output_type": "stream",
     "text": [
      "Iu_not = [ 7  8  9 10 11 12]\n"
     ]
    }
   ],
   "source": [
    "print('Iu_not = {}'.format(Iu_not))"
   ]
  },
  {
   "cell_type": "code",
   "execution_count": 68,
   "id": "5af4eaf4-0c26-40d3-97ac-f321e1a44e70",
   "metadata": {},
   "outputs": [
    {
     "data": {
      "text/plain": [
       "array([ 7,  8,  9, 10, 11, 12])"
      ]
     },
     "execution_count": 68,
     "metadata": {},
     "output_type": "execute_result"
    }
   ],
   "source": [
    "np.setdiff1d(I, Iu)"
   ]
  },
  {
   "cell_type": "markdown",
   "id": "ba1e7ee4-1b23-4a21-a378-445f8496b009",
   "metadata": {},
   "source": [
    "## 21 訓練データ"
   ]
  },
  {
   "cell_type": "code",
   "execution_count": 70,
   "id": "9c38688a-6150-4e9e-b095-9e66aacae2bf",
   "metadata": {},
   "outputs": [],
   "source": [
    "DuL = Du[~np.isnan(ru)]"
   ]
  },
  {
   "cell_type": "code",
   "execution_count": 71,
   "id": "abfe3560-65b1-40db-93d3-82691673f80f",
   "metadata": {},
   "outputs": [
    {
     "name": "stdout",
     "output_type": "stream",
     "text": [
      "DuL = \n",
      "[[ 5.  3.  1.]\n",
      " [ 6.  2.  1.]\n",
      " [ 4.  1.  1.]\n",
      " [ 8.  5. -1.]\n",
      " [ 2.  4. -1.]\n",
      " [ 3.  6. -1.]\n",
      " [ 7.  6. -1.]]\n"
     ]
    }
   ],
   "source": [
    "print('DuL = \\n{}'.format(DuL))"
   ]
  },
  {
   "cell_type": "markdown",
   "id": "aa4da43e-efb4-49c3-9356-2ea930cf6580",
   "metadata": {},
   "source": [
    "## 22 訓練事例数"
   ]
  },
  {
   "cell_type": "code",
   "execution_count": 74,
   "id": "664aaf1a-754c-4ed0-8dc2-d7f4ab2d7214",
   "metadata": {},
   "outputs": [
    {
     "name": "stdout",
     "output_type": "stream",
     "text": [
      "|DuL| = 7\n"
     ]
    }
   ],
   "source": [
    "print('|DuL| = {}'.format(DuL.shape[0]))"
   ]
  },
  {
   "cell_type": "markdown",
   "id": "fb8f658c-b1d0-4508-93f1-694cf247e826",
   "metadata": {},
   "source": [
    "## 23 正事例数"
   ]
  },
  {
   "cell_type": "code",
   "execution_count": 79,
   "id": "1a559d71-8121-4451-87ef-6647d5e3c051",
   "metadata": {},
   "outputs": [
    {
     "name": "stdout",
     "output_type": "stream",
     "text": [
      "|DuL+| = 3\n"
     ]
    }
   ],
   "source": [
    "print('|DuL+| = {}'.format(Du[ru == 1].shape[0]))"
   ]
  },
  {
   "cell_type": "markdown",
   "id": "0b3edd3b-5437-4021-96c1-025bdd391dbd",
   "metadata": {},
   "source": [
    "## 24 負事例数"
   ]
  },
  {
   "cell_type": "code",
   "execution_count": 80,
   "id": "14c4effb-c142-4698-a1b8-1dbfd769e923",
   "metadata": {},
   "outputs": [
    {
     "name": "stdout",
     "output_type": "stream",
     "text": [
      "|DuL-| = 4\n"
     ]
    }
   ],
   "source": [
    "print('|DuL-| = {}'.format(Du[ru == -1].shape[0]))"
   ]
  },
  {
   "cell_type": "markdown",
   "id": "dcb1b7b9-4bea-40ca-b2fd-021897347d5a",
   "metadata": {},
   "source": [
    "## 25 予測対象データ"
   ]
  },
  {
   "cell_type": "code",
   "execution_count": 82,
   "id": "7119b791-6c97-4dfa-8469-722fde662a69",
   "metadata": {},
   "outputs": [],
   "source": [
    "DuU = Du[np.isnan(ru)]"
   ]
  },
  {
   "cell_type": "code",
   "execution_count": 83,
   "id": "14d2262f-a4fc-45c7-a04c-0260e67117d4",
   "metadata": {},
   "outputs": [
    {
     "name": "stdout",
     "output_type": "stream",
     "text": [
      "DuU = \n",
      "[[ 4.  2. nan]\n",
      " [ 5.  1. nan]\n",
      " [ 8.  6. nan]\n",
      " [ 3.  4. nan]\n",
      " [ 4.  7. nan]\n",
      " [ 4.  4. nan]]\n"
     ]
    }
   ],
   "source": [
    "print('DuU = \\n{}'.format(DuU))"
   ]
  },
  {
   "cell_type": "markdown",
   "id": "dd92346a-e39a-49e8-a252-4a5ba0967f47",
   "metadata": {},
   "source": [
    "## 26 予測対象事例数"
   ]
  },
  {
   "cell_type": "code",
   "execution_count": 84,
   "id": "391319a5-da26-4b53-8782-85ca1a3e9110",
   "metadata": {},
   "outputs": [
    {
     "name": "stdout",
     "output_type": "stream",
     "text": [
      "|DuU| = 6\n"
     ]
    }
   ],
   "source": [
    "print('|DuU| = {}'.format(DuU.shape[0]))"
   ]
  },
  {
   "cell_type": "code",
   "execution_count": null,
   "id": "a86683ad-397d-49cb-a3c4-64f5cb78805c",
   "metadata": {},
   "outputs": [],
   "source": []
  }
 ],
 "metadata": {
  "kernelspec": {
   "display_name": "Python 3 (ipykernel)",
   "language": "python",
   "name": "python3"
  },
  "language_info": {
   "codemirror_mode": {
    "name": "ipython",
    "version": 3
   },
   "file_extension": ".py",
   "mimetype": "text/x-python",
   "name": "python",
   "nbconvert_exporter": "python",
   "pygments_lexer": "ipython3",
   "version": "3.9.7"
  }
 },
 "nbformat": 4,
 "nbformat_minor": 5
}
