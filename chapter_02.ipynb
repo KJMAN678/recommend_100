{
 "cells": [
  {
   "cell_type": "code",
   "execution_count": 1,
   "id": "9bc2b2a3-81d9-40d8-b59d-5fbdb59a0f49",
   "metadata": {},
   "outputs": [],
   "source": [
    "import pprint\n",
    "import numpy as np\n",
    "np.set_printoptions(precision=3)"
   ]
  },
  {
   "cell_type": "markdown",
   "id": "01c1065f-2c0f-491a-a0a8-92d68ba7f0d9",
   "metadata": {},
   "source": [
    "## 01 評価値行列の生成"
   ]
  },
  {
   "cell_type": "code",
   "execution_count": 3,
   "id": "edf61340-d8d9-4b5d-abde-7058ec1da67b",
   "metadata": {},
   "outputs": [],
   "source": [
    "R = np.array(\n",
    "    [\n",
    "        [np.nan,  4.,     3.,      1.,     2.,     np.nan],\n",
    "        [5.,      5.,     4.,      np.nan, 3.,     3.],\n",
    "        [4.,      np.nan, 5.,      3.,     2.,     np.nan],\n",
    "        [np.nan,  3.,     np.nan,  2.,     1.,     1.],\n",
    "        [2.,      1.,     2.,      4.,     np.nan, 3.],\n",
    "    ]\n",
    ")"
   ]
  },
  {
   "cell_type": "code",
   "execution_count": 4,
   "id": "b65d86e7-db4f-40c8-9225-292c007ffe18",
   "metadata": {},
   "outputs": [
    {
     "name": "stdout",
     "output_type": "stream",
     "text": [
      "R = \n",
      "[[nan  4.  3.  1.  2. nan]\n",
      " [ 5.  5.  4. nan  3.  3.]\n",
      " [ 4. nan  5.  3.  2. nan]\n",
      " [nan  3. nan  2.  1.  1.]\n",
      " [ 2.  1.  2.  4. nan  3.]]\n"
     ]
    }
   ],
   "source": [
    "print('R = \\n{}'.format(R))"
   ]
  },
  {
   "cell_type": "markdown",
   "id": "e07e1068-b65c-4754-9bcd-88e048afde3e",
   "metadata": {},
   "source": [
    "## 02 ユーザ集合"
   ]
  },
  {
   "cell_type": "code",
   "execution_count": 7,
   "id": "d5dc039e-2aa5-4f12-a4d7-aa5521a1ef29",
   "metadata": {},
   "outputs": [],
   "source": [
    "U = np.arange(R.shape[0])"
   ]
  },
  {
   "cell_type": "code",
   "execution_count": 8,
   "id": "118291f6-7116-4ce9-836f-4fa104dfde1f",
   "metadata": {},
   "outputs": [
    {
     "name": "stdout",
     "output_type": "stream",
     "text": [
      "U = [0 1 2 3 4]\n"
     ]
    }
   ],
   "source": [
    "print('U = {}'.format(U))"
   ]
  },
  {
   "cell_type": "markdown",
   "id": "a1054f1a-cd8f-47ae-81af-3a161017e140",
   "metadata": {},
   "source": [
    "## 03 アイテム集合"
   ]
  },
  {
   "cell_type": "code",
   "execution_count": 9,
   "id": "762f9650-fc07-42b2-a6c8-4ef41cff313b",
   "metadata": {},
   "outputs": [],
   "source": [
    "I = np.arange(R.shape[1])"
   ]
  },
  {
   "cell_type": "code",
   "execution_count": 10,
   "id": "305cf9c0-464c-4a27-a316-fc29fbd50021",
   "metadata": {},
   "outputs": [
    {
     "name": "stdout",
     "output_type": "stream",
     "text": [
      "I = [0 1 2 3 4 5]\n"
     ]
    }
   ],
   "source": [
    "print('I = {}'.format(I))"
   ]
  },
  {
   "cell_type": "markdown",
   "id": "88320e50-1348-425c-a3b1-6ad33b2a4e96",
   "metadata": {},
   "source": [
    "## 04 ユーザ数"
   ]
  },
  {
   "cell_type": "code",
   "execution_count": 13,
   "id": "633244bb-b289-46c2-9166-397b55dc787c",
   "metadata": {},
   "outputs": [
    {
     "name": "stdout",
     "output_type": "stream",
     "text": [
      "|U| = 5\n"
     ]
    }
   ],
   "source": [
    "print('|U| = {}'.format(U.size))"
   ]
  },
  {
   "cell_type": "markdown",
   "id": "b44065ea-c06b-4f86-bc94-0389781dddd3",
   "metadata": {},
   "source": [
    "## 05 アイテム数"
   ]
  },
  {
   "cell_type": "code",
   "execution_count": 14,
   "id": "a9145863-348a-4f9f-824d-fe72a3e36af3",
   "metadata": {},
   "outputs": [
    {
     "name": "stdout",
     "output_type": "stream",
     "text": [
      "|I| = 6\n"
     ]
    }
   ],
   "source": [
    "print('|I| = {}'.format(I.size))"
   ]
  },
  {
   "cell_type": "markdown",
   "id": "75bc64ad-7d27-427b-b1ac-8c9806f8298b",
   "metadata": {},
   "source": [
    "## 06 評価値"
   ]
  },
  {
   "cell_type": "code",
   "execution_count": 15,
   "id": "a3c04ef9-1e2a-4685-9f67-0e6e24c54a90",
   "metadata": {},
   "outputs": [
    {
     "name": "stdout",
     "output_type": "stream",
     "text": [
      "r01 = 4.0\n"
     ]
    }
   ],
   "source": [
    "u = 0\n",
    "i = 1\n",
    "print('r{}{} = {}'.format(u, i, R[u, i]))"
   ]
  },
  {
   "cell_type": "markdown",
   "id": "6bf3bc04-20e1-4e78-b4fc-f58e2824fb12",
   "metadata": {},
   "source": [
    "## 07 評価値行列の全要素数"
   ]
  },
  {
   "cell_type": "code",
   "execution_count": 16,
   "id": "e5c50fd0-ddf5-4820-8eef-ae2515dc9450",
   "metadata": {},
   "outputs": [
    {
     "name": "stdout",
     "output_type": "stream",
     "text": [
      "Rの全要素数 = 30\n"
     ]
    }
   ],
   "source": [
    "print('Rの全要素数 = {}'.format(R.size))"
   ]
  },
  {
   "cell_type": "markdown",
   "id": "aa7fa7af-9164-497e-8ecf-cda9751b24de",
   "metadata": {},
   "source": [
    "## 08 観測されているか否かの判定"
   ]
  },
  {
   "cell_type": "code",
   "execution_count": 20,
   "id": "46708927-6afc-4823-be7a-682abe39b4c7",
   "metadata": {},
   "outputs": [
    {
     "name": "stdout",
     "output_type": "stream",
     "text": [
      "観測値 = \n",
      "[[False  True  True  True  True False]\n",
      " [ True  True  True False  True  True]\n",
      " [ True False  True  True  True False]\n",
      " [False  True False  True  True  True]\n",
      " [ True  True  True  True False  True]]\n"
     ]
    }
   ],
   "source": [
    "print('観測値 = \\n{}'.format(~np.isnan(R)))"
   ]
  },
  {
   "cell_type": "markdown",
   "id": "3c9727e9-f14a-45d7-807f-3f1b7993007e",
   "metadata": {},
   "source": [
    "## 09 評価値行列の観測値数"
   ]
  },
  {
   "cell_type": "code",
   "execution_count": 23,
   "id": "64c7af67-ed8a-4b3d-8578-03a3b6597797",
   "metadata": {},
   "outputs": [
    {
     "name": "stdout",
     "output_type": "stream",
     "text": [
      "|R| = 22\n"
     ]
    }
   ],
   "source": [
    "print('|R| = {}'.format(np.count_nonzero(~np.isnan(R))))"
   ]
  },
  {
   "cell_type": "code",
   "execution_count": 28,
   "id": "c002a9e4-2236-4e8a-b972-d715c7a7b760",
   "metadata": {},
   "outputs": [
    {
     "data": {
      "text/plain": [
       "22"
      ]
     },
     "execution_count": 28,
     "metadata": {},
     "output_type": "execute_result"
    }
   ],
   "source": [
    "R[~np.isnan(R)].size"
   ]
  },
  {
   "cell_type": "markdown",
   "id": "0a84a8ca-fc09-4ace-be2e-238af2a34af6",
   "metadata": {},
   "source": [
    "## 10 評価値行列の疎性"
   ]
  },
  {
   "cell_type": "code",
   "execution_count": 32,
   "id": "96657bcb-bf66-44fc-8795-b67ffabe4e5a",
   "metadata": {},
   "outputs": [],
   "source": [
    "sparsity = 1 - np.count_nonzero([~np.isnan(R)]) / (I.size * U.size)"
   ]
  },
  {
   "cell_type": "code",
   "execution_count": 33,
   "id": "7b14b0e9-5a86-4f58-9801-450608ee04a4",
   "metadata": {},
   "outputs": [
    {
     "name": "stdout",
     "output_type": "stream",
     "text": [
      "sparsity = 0.267\n"
     ]
    }
   ],
   "source": [
    "print('sparsity = {:.3f}'.format(sparsity))"
   ]
  },
  {
   "cell_type": "markdown",
   "id": "e275dc28-ca66-418a-89eb-3a646ad7c7eb",
   "metadata": {},
   "source": [
    "## 11 ユーザuが評価済みのアイテム集合"
   ]
  },
  {
   "cell_type": "code",
   "execution_count": 40,
   "id": "33e3d83d-a34d-4a0f-83fb-7a7e95173024",
   "metadata": {},
   "outputs": [
    {
     "name": "stdout",
     "output_type": "stream",
     "text": [
      "I0 = [1 2 3 4]\n"
     ]
    }
   ],
   "source": [
    "u = 0\n",
    "\n",
    "print('I{} = {}'.format(u, I[~np.isnan(R[u])]))"
   ]
  },
  {
   "cell_type": "markdown",
   "id": "289787d3-ca8e-4ef4-8926-817ff32b9a1c",
   "metadata": {},
   "source": [
    "## 12 各ユーザの評価済みアイテム集合"
   ]
  },
  {
   "cell_type": "code",
   "execution_count": 63,
   "id": "8a24e1e9-7649-4213-85e2-a99766af4de3",
   "metadata": {},
   "outputs": [
    {
     "data": {
      "text/plain": [
       "[array([1, 2, 3, 4]),\n",
       " array([0, 1, 2, 4, 5]),\n",
       " array([0, 2, 3, 4]),\n",
       " array([1, 3, 4, 5]),\n",
       " array([0, 1, 2, 3, 5])]"
      ]
     },
     "execution_count": 63,
     "metadata": {},
     "output_type": "execute_result"
    }
   ],
   "source": [
    "[I[~np.isnan(line)] for line in R]"
   ]
  },
  {
   "cell_type": "markdown",
   "id": "5f29ff5f-53da-4512-b14e-4b0ccfac7f3d",
   "metadata": {},
   "source": [
    "## 13 ユーザuとユーザvの共通の評価済みアイテム集合"
   ]
  },
  {
   "cell_type": "code",
   "execution_count": 52,
   "id": "befcba12-0925-4ec5-b6bd-8dd5d9d58802",
   "metadata": {},
   "outputs": [
    {
     "name": "stdout",
     "output_type": "stream",
     "text": [
      "I01 = [1 2 4]\n"
     ]
    }
   ],
   "source": [
    "u = 0\n",
    "v = 1\n",
    "\n",
    "Iuv = np.intersect1d(I[~np.isnan(R[u])], I[~np.isnan(R[v])])\n",
    "\n",
    "print('I{}{} = {}'.format(u, v, Iuv))"
   ]
  },
  {
   "cell_type": "markdown",
   "id": "1e5121e7-f8df-4598-95dd-20cfe303717e",
   "metadata": {},
   "source": [
    "## 14 アイテムiを評価済みのユーザ集合"
   ]
  },
  {
   "cell_type": "code",
   "execution_count": 59,
   "id": "7733fe46-2b10-4255-a266-eb724a3dfdcd",
   "metadata": {},
   "outputs": [
    {
     "name": "stdout",
     "output_type": "stream",
     "text": [
      "U0 = [1 2 4]\n"
     ]
    }
   ],
   "source": [
    "i = 0\n",
    "print('U{} = {}'.format(i, U[~np.isnan(R[:, i])]))"
   ]
  },
  {
   "cell_type": "markdown",
   "id": "bb7212c9-b4bb-4c3a-8231-ccf3b6a33567",
   "metadata": {},
   "source": [
    "## 15 各アイテムの評価済みユーザ集合"
   ]
  },
  {
   "cell_type": "code",
   "execution_count": 68,
   "id": "50ba5ffb-a63a-4799-84cc-d1d2073366e5",
   "metadata": {},
   "outputs": [],
   "source": [
    "Ui = [U[~np.isnan(R[:, i])] for i in range(R.shape[1])]"
   ]
  },
  {
   "cell_type": "code",
   "execution_count": 69,
   "id": "10f16e50-5712-4bbb-80c2-d56155cc1c59",
   "metadata": {},
   "outputs": [
    {
     "name": "stdout",
     "output_type": "stream",
     "text": [
      "Ui = \n",
      "[array([1, 2, 4]),\n",
      " array([0, 1, 3, 4]),\n",
      " array([0, 1, 2, 4]),\n",
      " array([0, 2, 3, 4]),\n",
      " array([0, 1, 2, 3]),\n",
      " array([1, 3, 4])]\n"
     ]
    }
   ],
   "source": [
    "print('Ui = ')\n",
    "pprint.pprint(Ui)"
   ]
  },
  {
   "cell_type": "markdown",
   "id": "5ad18699-fd97-4c5a-ad57-b9d918cbb53c",
   "metadata": {},
   "source": [
    "## 16 アイテムiとアイテムjの両方を評価済みのユーザ集合"
   ]
  },
  {
   "cell_type": "code",
   "execution_count": 75,
   "id": "6a74906f-89db-4208-896f-5e083c9bf77e",
   "metadata": {},
   "outputs": [
    {
     "name": "stdout",
     "output_type": "stream",
     "text": [
      "U04 = [1 2]\n"
     ]
    }
   ],
   "source": [
    "i = 0\n",
    "j = 4\n",
    "\n",
    "Uij = np.intersect1d(Ui[i], Ui[j])\n",
    "\n",
    "print('U{}{} = {}'.format(i, j, Uij))"
   ]
  },
  {
   "cell_type": "markdown",
   "id": "11baf48a-db18-4268-8a38-c8204c1dd789",
   "metadata": {},
   "source": [
    "## 17 評価値行列全体の平均評価値"
   ]
  },
  {
   "cell_type": "code",
   "execution_count": 78,
   "id": "b37fb902-c6d6-4411-9f24-5c2a0c43e131",
   "metadata": {},
   "outputs": [
    {
     "name": "stdout",
     "output_type": "stream",
     "text": [
      "R全体の平均評価値 = 2.864\n"
     ]
    }
   ],
   "source": [
    "print('R全体の平均評価値 = {:.3f}'.format(np.nanmean(R)))"
   ]
  },
  {
   "cell_type": "markdown",
   "id": "2e6a65ed-b4ea-4048-861f-0e8e44b9be67",
   "metadata": {},
   "source": [
    "## 18 各アイテムの平均評価値"
   ]
  },
  {
   "cell_type": "code",
   "execution_count": 81,
   "id": "9a42b9a1-665d-40fb-bd17-b4996d2fa83b",
   "metadata": {},
   "outputs": [
    {
     "name": "stdout",
     "output_type": "stream",
     "text": [
      "ri_mean = [3.667 3.25  3.5   2.5   2.    2.333]\n"
     ]
    }
   ],
   "source": [
    "ri_mean = np.nanmean(R, axis=0)\n",
    "\n",
    "print('ri_mean = {}'.format(ri_mean))"
   ]
  },
  {
   "cell_type": "markdown",
   "id": "6e5fc3b9-f6c8-4c70-97d4-69f812c4d23b",
   "metadata": {},
   "source": [
    "## 19 各ユーザの平均評価値"
   ]
  },
  {
   "cell_type": "code",
   "execution_count": 83,
   "id": "85c3fbaa-2754-422f-9f7a-7f7adcd5d918",
   "metadata": {},
   "outputs": [
    {
     "name": "stdout",
     "output_type": "stream",
     "text": [
      "ru_mean = [2.5  4.   3.5  1.75 2.4 ]\n"
     ]
    }
   ],
   "source": [
    "ru_mean = np.nanmean(R, axis=1)\n",
    "\n",
    "print('ru_mean = {}'.format(ru_mean))"
   ]
  },
  {
   "cell_type": "code",
   "execution_count": 88,
   "id": "1f4f1551-b8cc-4d89-9c8e-cc42548c1b1f",
   "metadata": {},
   "outputs": [
    {
     "data": {
      "text/plain": [
       "[array([4., 3., 1., 2.]),\n",
       " array([5., 5., 4., 3., 3.]),\n",
       " array([4., 5., 3., 2.]),\n",
       " array([3., 2., 1., 1.]),\n",
       " array([2., 1., 2., 4., 3.])]"
      ]
     },
     "execution_count": 88,
     "metadata": {},
     "output_type": "execute_result"
    }
   ],
   "source": [
    "[line[~np.isnan(line)] for line in R]"
   ]
  },
  {
   "cell_type": "code",
   "execution_count": 90,
   "id": "6e1ce072-6997-413d-a698-6aa9bb195888",
   "metadata": {},
   "outputs": [
    {
     "data": {
      "text/plain": [
       "[2.5, 4.0, 3.5, 1.75, 2.4]"
      ]
     },
     "execution_count": 90,
     "metadata": {},
     "output_type": "execute_result"
    }
   ],
   "source": [
    "[sum(line[~np.isnan(line)])/len(line[~np.isnan(line)]) for line in R]"
   ]
  },
  {
   "cell_type": "markdown",
   "id": "53296146-7e6b-426b-abc6-b929b9a642af",
   "metadata": {},
   "source": [
    "## 20 評価値ベクトルの形状変換"
   ]
  },
  {
   "cell_type": "code",
   "execution_count": 96,
   "id": "3132ead6-e895-4d08-b889-23891c8ca9e0",
   "metadata": {},
   "outputs": [
    {
     "name": "stdout",
     "output_type": "stream",
     "text": [
      "ru_mean = \n",
      "[[2.5 ]\n",
      " [4.  ]\n",
      " [3.5 ]\n",
      " [1.75]\n",
      " [2.4 ]]\n"
     ]
    }
   ],
   "source": [
    "print('ru_mean = \\n{}'.format(ru_mean.reshape(-1, 1)))"
   ]
  },
  {
   "cell_type": "markdown",
   "id": "70dd2553-36eb-4bbb-b0e8-d3c3ae4dcc4d",
   "metadata": {},
   "source": [
    "## 21 平均中心化評価値行列"
   ]
  },
  {
   "cell_type": "code",
   "execution_count": 100,
   "id": "5a96af6c-5adf-44ef-a8da-35ae9dd320d3",
   "metadata": {},
   "outputs": [
    {
     "name": "stdout",
     "output_type": "stream",
     "text": [
      "R' = \n",
      "[[  nan  1.5   0.5  -1.5  -0.5    nan]\n",
      " [ 1.    1.    0.     nan -1.   -1.  ]\n",
      " [ 0.5    nan  1.5  -0.5  -1.5    nan]\n",
      " [  nan  1.25   nan  0.25 -0.75 -0.75]\n",
      " [-0.4  -1.4  -0.4   1.6    nan  0.6 ]]\n"
     ]
    }
   ],
   "source": [
    "R2 = R - ru_mean.reshape(-1, 1)\n",
    "\n",
    "print('R\\' = \\n{}'.format(R2))"
   ]
  },
  {
   "cell_type": "code",
   "execution_count": null,
   "id": "edefe4ca-0460-4d11-8dd4-51b518e9bf20",
   "metadata": {},
   "outputs": [],
   "source": []
  }
 ],
 "metadata": {
  "kernelspec": {
   "display_name": "Python 3 (ipykernel)",
   "language": "python",
   "name": "python3"
  },
  "language_info": {
   "codemirror_mode": {
    "name": "ipython",
    "version": 3
   },
   "file_extension": ".py",
   "mimetype": "text/x-python",
   "name": "python",
   "nbconvert_exporter": "python",
   "pygments_lexer": "ipython3",
   "version": "3.9.7"
  }
 },
 "nbformat": 4,
 "nbformat_minor": 5
}
